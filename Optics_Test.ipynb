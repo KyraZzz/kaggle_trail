{
  "cells": [
    {
      "cell_type": "markdown",
      "metadata": {
        "id": "view-in-github",
        "colab_type": "text"
      },
      "source": [
        "<a href=\"https://colab.research.google.com/github/KyraZzz/kaggle_trail/blob/main/Optics_Test.ipynb\" target=\"_parent\"><img src=\"https://colab.research.google.com/assets/colab-badge.svg\" alt=\"Open In Colab\"/></a>"
      ]
    },
    {
      "cell_type": "code",
      "execution_count": null,
      "metadata": {
        "id": "PxrfxsPiRMAB"
      },
      "outputs": [],
      "source": [
        "import numpy as np\n",
        "#from GAE.GAE_IMPORTS import *\n",
        "import matplotlib.pyplot as plt\n",
        "import pandas as pd\n",
        "import numpy as np\n",
        "from datetime import datetime\n",
        "# import pingouin\n",
        "import networkx as nx\n",
        "from sklearn.preprocessing import StandardScaler\n",
        "from tqdm import tqdm\n",
        "import torch\n",
        "import pickle\n",
        "import datetime\n",
        "import traceback\n",
        "import seaborn as sns"
      ]
    },
    {
      "cell_type": "code",
      "execution_count": null,
      "metadata": {
        "id": "GQqqDFblRMAC"
      },
      "outputs": [],
      "source": [
        "import networkx as nx\n",
        "import community as community_louvain\n",
        "import matplotlib.cm as cm\n",
        "import matplotlib.colors"
      ]
    },
    {
      "cell_type": "code",
      "source": [
        "from google.colab import drive\n",
        "drive.mount('/content/drive')"
      ],
      "metadata": {
        "colab": {
          "base_uri": "https://localhost:8080/"
        },
        "id": "AEUoyjW5SK_b",
        "outputId": "a26162d6-0359-41b9-940c-64be13cc098a"
      },
      "execution_count": null,
      "outputs": [
        {
          "output_type": "stream",
          "name": "stdout",
          "text": [
            "Mounted at /content/drive\n"
          ]
        }
      ]
    },
    {
      "cell_type": "code",
      "execution_count": null,
      "metadata": {
        "id": "jRPnMUEbRMAC"
      },
      "outputs": [],
      "source": [
        "ddf = pd.read_csv('/content/drive/MyDrive/Kaggle-competition/stock_optics/all_stocks_5yr.csv')"
      ]
    },
    {
      "cell_type": "code",
      "execution_count": null,
      "metadata": {
        "scrolled": true,
        "id": "4F5NVHDnRMAC"
      },
      "outputs": [],
      "source": [
        "ddf['return'] = (ddf['close'] - ddf['open']) * 100 / ddf['open']"
      ]
    },
    {
      "cell_type": "code",
      "source": [
        "ddf[ddf['Name'] == 'AAL']"
      ],
      "metadata": {
        "colab": {
          "base_uri": "https://localhost:8080/",
          "height": 424
        },
        "id": "Zaswr2UIUUuK",
        "outputId": "ea1ccf06-7e8f-4608-ceb9-8036c9e7ece2"
      },
      "execution_count": null,
      "outputs": [
        {
          "output_type": "execute_result",
          "data": {
            "text/plain": [
              "            date   open   high    low  close    volume Name    return\n",
              "0     2013-02-08  15.07  15.12  14.63  14.75   8407500  AAL -2.123424\n",
              "1     2013-02-11  14.89  15.01  14.26  14.46   8882000  AAL -2.887844\n",
              "2     2013-02-12  14.45  14.51  14.10  14.27   8126000  AAL -1.245675\n",
              "3     2013-02-13  14.30  14.94  14.25  14.66  10259500  AAL  2.517483\n",
              "4     2013-02-14  14.94  14.96  13.16  13.99  31879900  AAL -6.358768\n",
              "...          ...    ...    ...    ...    ...       ...  ...       ...\n",
              "1254  2018-02-01  54.00  54.64  53.59  53.88   3623078  AAL -0.222222\n",
              "1255  2018-02-02  53.49  53.99  52.03  52.10   5109361  AAL -2.598617\n",
              "1256  2018-02-05  51.99  52.39  49.75  49.76   6878284  AAL -4.289286\n",
              "1257  2018-02-06  49.32  51.50  48.79  51.18   6782480  AAL  3.771290\n",
              "1258  2018-02-07  50.91  51.98  50.89  51.40   4845831  AAL  0.962483\n",
              "\n",
              "[1259 rows x 8 columns]"
            ],
            "text/html": [
              "\n",
              "  <div id=\"df-81ab5c5e-5c3c-4cf9-bd4c-36c56c9a5635\">\n",
              "    <div class=\"colab-df-container\">\n",
              "      <div>\n",
              "<style scoped>\n",
              "    .dataframe tbody tr th:only-of-type {\n",
              "        vertical-align: middle;\n",
              "    }\n",
              "\n",
              "    .dataframe tbody tr th {\n",
              "        vertical-align: top;\n",
              "    }\n",
              "\n",
              "    .dataframe thead th {\n",
              "        text-align: right;\n",
              "    }\n",
              "</style>\n",
              "<table border=\"1\" class=\"dataframe\">\n",
              "  <thead>\n",
              "    <tr style=\"text-align: right;\">\n",
              "      <th></th>\n",
              "      <th>date</th>\n",
              "      <th>open</th>\n",
              "      <th>high</th>\n",
              "      <th>low</th>\n",
              "      <th>close</th>\n",
              "      <th>volume</th>\n",
              "      <th>Name</th>\n",
              "      <th>return</th>\n",
              "    </tr>\n",
              "  </thead>\n",
              "  <tbody>\n",
              "    <tr>\n",
              "      <th>0</th>\n",
              "      <td>2013-02-08</td>\n",
              "      <td>15.07</td>\n",
              "      <td>15.12</td>\n",
              "      <td>14.63</td>\n",
              "      <td>14.75</td>\n",
              "      <td>8407500</td>\n",
              "      <td>AAL</td>\n",
              "      <td>-2.123424</td>\n",
              "    </tr>\n",
              "    <tr>\n",
              "      <th>1</th>\n",
              "      <td>2013-02-11</td>\n",
              "      <td>14.89</td>\n",
              "      <td>15.01</td>\n",
              "      <td>14.26</td>\n",
              "      <td>14.46</td>\n",
              "      <td>8882000</td>\n",
              "      <td>AAL</td>\n",
              "      <td>-2.887844</td>\n",
              "    </tr>\n",
              "    <tr>\n",
              "      <th>2</th>\n",
              "      <td>2013-02-12</td>\n",
              "      <td>14.45</td>\n",
              "      <td>14.51</td>\n",
              "      <td>14.10</td>\n",
              "      <td>14.27</td>\n",
              "      <td>8126000</td>\n",
              "      <td>AAL</td>\n",
              "      <td>-1.245675</td>\n",
              "    </tr>\n",
              "    <tr>\n",
              "      <th>3</th>\n",
              "      <td>2013-02-13</td>\n",
              "      <td>14.30</td>\n",
              "      <td>14.94</td>\n",
              "      <td>14.25</td>\n",
              "      <td>14.66</td>\n",
              "      <td>10259500</td>\n",
              "      <td>AAL</td>\n",
              "      <td>2.517483</td>\n",
              "    </tr>\n",
              "    <tr>\n",
              "      <th>4</th>\n",
              "      <td>2013-02-14</td>\n",
              "      <td>14.94</td>\n",
              "      <td>14.96</td>\n",
              "      <td>13.16</td>\n",
              "      <td>13.99</td>\n",
              "      <td>31879900</td>\n",
              "      <td>AAL</td>\n",
              "      <td>-6.358768</td>\n",
              "    </tr>\n",
              "    <tr>\n",
              "      <th>...</th>\n",
              "      <td>...</td>\n",
              "      <td>...</td>\n",
              "      <td>...</td>\n",
              "      <td>...</td>\n",
              "      <td>...</td>\n",
              "      <td>...</td>\n",
              "      <td>...</td>\n",
              "      <td>...</td>\n",
              "    </tr>\n",
              "    <tr>\n",
              "      <th>1254</th>\n",
              "      <td>2018-02-01</td>\n",
              "      <td>54.00</td>\n",
              "      <td>54.64</td>\n",
              "      <td>53.59</td>\n",
              "      <td>53.88</td>\n",
              "      <td>3623078</td>\n",
              "      <td>AAL</td>\n",
              "      <td>-0.222222</td>\n",
              "    </tr>\n",
              "    <tr>\n",
              "      <th>1255</th>\n",
              "      <td>2018-02-02</td>\n",
              "      <td>53.49</td>\n",
              "      <td>53.99</td>\n",
              "      <td>52.03</td>\n",
              "      <td>52.10</td>\n",
              "      <td>5109361</td>\n",
              "      <td>AAL</td>\n",
              "      <td>-2.598617</td>\n",
              "    </tr>\n",
              "    <tr>\n",
              "      <th>1256</th>\n",
              "      <td>2018-02-05</td>\n",
              "      <td>51.99</td>\n",
              "      <td>52.39</td>\n",
              "      <td>49.75</td>\n",
              "      <td>49.76</td>\n",
              "      <td>6878284</td>\n",
              "      <td>AAL</td>\n",
              "      <td>-4.289286</td>\n",
              "    </tr>\n",
              "    <tr>\n",
              "      <th>1257</th>\n",
              "      <td>2018-02-06</td>\n",
              "      <td>49.32</td>\n",
              "      <td>51.50</td>\n",
              "      <td>48.79</td>\n",
              "      <td>51.18</td>\n",
              "      <td>6782480</td>\n",
              "      <td>AAL</td>\n",
              "      <td>3.771290</td>\n",
              "    </tr>\n",
              "    <tr>\n",
              "      <th>1258</th>\n",
              "      <td>2018-02-07</td>\n",
              "      <td>50.91</td>\n",
              "      <td>51.98</td>\n",
              "      <td>50.89</td>\n",
              "      <td>51.40</td>\n",
              "      <td>4845831</td>\n",
              "      <td>AAL</td>\n",
              "      <td>0.962483</td>\n",
              "    </tr>\n",
              "  </tbody>\n",
              "</table>\n",
              "<p>1259 rows × 8 columns</p>\n",
              "</div>\n",
              "      <button class=\"colab-df-convert\" onclick=\"convertToInteractive('df-81ab5c5e-5c3c-4cf9-bd4c-36c56c9a5635')\"\n",
              "              title=\"Convert this dataframe to an interactive table.\"\n",
              "              style=\"display:none;\">\n",
              "        \n",
              "  <svg xmlns=\"http://www.w3.org/2000/svg\" height=\"24px\"viewBox=\"0 0 24 24\"\n",
              "       width=\"24px\">\n",
              "    <path d=\"M0 0h24v24H0V0z\" fill=\"none\"/>\n",
              "    <path d=\"M18.56 5.44l.94 2.06.94-2.06 2.06-.94-2.06-.94-.94-2.06-.94 2.06-2.06.94zm-11 1L8.5 8.5l.94-2.06 2.06-.94-2.06-.94L8.5 2.5l-.94 2.06-2.06.94zm10 10l.94 2.06.94-2.06 2.06-.94-2.06-.94-.94-2.06-.94 2.06-2.06.94z\"/><path d=\"M17.41 7.96l-1.37-1.37c-.4-.4-.92-.59-1.43-.59-.52 0-1.04.2-1.43.59L10.3 9.45l-7.72 7.72c-.78.78-.78 2.05 0 2.83L4 21.41c.39.39.9.59 1.41.59.51 0 1.02-.2 1.41-.59l7.78-7.78 2.81-2.81c.8-.78.8-2.07 0-2.86zM5.41 20L4 18.59l7.72-7.72 1.47 1.35L5.41 20z\"/>\n",
              "  </svg>\n",
              "      </button>\n",
              "      \n",
              "  <style>\n",
              "    .colab-df-container {\n",
              "      display:flex;\n",
              "      flex-wrap:wrap;\n",
              "      gap: 12px;\n",
              "    }\n",
              "\n",
              "    .colab-df-convert {\n",
              "      background-color: #E8F0FE;\n",
              "      border: none;\n",
              "      border-radius: 50%;\n",
              "      cursor: pointer;\n",
              "      display: none;\n",
              "      fill: #1967D2;\n",
              "      height: 32px;\n",
              "      padding: 0 0 0 0;\n",
              "      width: 32px;\n",
              "    }\n",
              "\n",
              "    .colab-df-convert:hover {\n",
              "      background-color: #E2EBFA;\n",
              "      box-shadow: 0px 1px 2px rgba(60, 64, 67, 0.3), 0px 1px 3px 1px rgba(60, 64, 67, 0.15);\n",
              "      fill: #174EA6;\n",
              "    }\n",
              "\n",
              "    [theme=dark] .colab-df-convert {\n",
              "      background-color: #3B4455;\n",
              "      fill: #D2E3FC;\n",
              "    }\n",
              "\n",
              "    [theme=dark] .colab-df-convert:hover {\n",
              "      background-color: #434B5C;\n",
              "      box-shadow: 0px 1px 3px 1px rgba(0, 0, 0, 0.15);\n",
              "      filter: drop-shadow(0px 1px 2px rgba(0, 0, 0, 0.3));\n",
              "      fill: #FFFFFF;\n",
              "    }\n",
              "  </style>\n",
              "\n",
              "      <script>\n",
              "        const buttonEl =\n",
              "          document.querySelector('#df-81ab5c5e-5c3c-4cf9-bd4c-36c56c9a5635 button.colab-df-convert');\n",
              "        buttonEl.style.display =\n",
              "          google.colab.kernel.accessAllowed ? 'block' : 'none';\n",
              "\n",
              "        async function convertToInteractive(key) {\n",
              "          const element = document.querySelector('#df-81ab5c5e-5c3c-4cf9-bd4c-36c56c9a5635');\n",
              "          const dataTable =\n",
              "            await google.colab.kernel.invokeFunction('convertToInteractive',\n",
              "                                                     [key], {});\n",
              "          if (!dataTable) return;\n",
              "\n",
              "          const docLinkHtml = 'Like what you see? Visit the ' +\n",
              "            '<a target=\"_blank\" href=https://colab.research.google.com/notebooks/data_table.ipynb>data table notebook</a>'\n",
              "            + ' to learn more about interactive tables.';\n",
              "          element.innerHTML = '';\n",
              "          dataTable['output_type'] = 'display_data';\n",
              "          await google.colab.output.renderOutput(dataTable, element);\n",
              "          const docLink = document.createElement('div');\n",
              "          docLink.innerHTML = docLinkHtml;\n",
              "          element.appendChild(docLink);\n",
              "        }\n",
              "      </script>\n",
              "    </div>\n",
              "  </div>\n",
              "  "
            ]
          },
          "metadata": {},
          "execution_count": 6
        }
      ]
    },
    {
      "cell_type": "code",
      "source": [
        "df = ddf.drop(['open','high','low','close','volume'],axis=1)\n",
        "df"
      ],
      "metadata": {
        "colab": {
          "base_uri": "https://localhost:8080/",
          "height": 424
        },
        "id": "lyRNZaWIXCzj",
        "outputId": "ac8b1e09-1ea0-4722-d628-4dc70969665d"
      },
      "execution_count": null,
      "outputs": [
        {
          "output_type": "execute_result",
          "data": {
            "text/plain": [
              "              date Name    return\n",
              "0       2013-02-08  AAL -2.123424\n",
              "1       2013-02-11  AAL -2.887844\n",
              "2       2013-02-12  AAL -1.245675\n",
              "3       2013-02-13  AAL  2.517483\n",
              "4       2013-02-14  AAL -6.358768\n",
              "...            ...  ...       ...\n",
              "619035  2018-02-01  ZTS  1.275377\n",
              "619036  2018-02-02  ZTS -0.967367\n",
              "619037  2018-02-05  ZTS -3.666493\n",
              "619038  2018-02-06  ZTS  0.728622\n",
              "619039  2018-02-07  ZTS  1.595598\n",
              "\n",
              "[619040 rows x 3 columns]"
            ],
            "text/html": [
              "\n",
              "  <div id=\"df-ae98ba67-f2c5-4a13-bbed-ac97ed603c05\">\n",
              "    <div class=\"colab-df-container\">\n",
              "      <div>\n",
              "<style scoped>\n",
              "    .dataframe tbody tr th:only-of-type {\n",
              "        vertical-align: middle;\n",
              "    }\n",
              "\n",
              "    .dataframe tbody tr th {\n",
              "        vertical-align: top;\n",
              "    }\n",
              "\n",
              "    .dataframe thead th {\n",
              "        text-align: right;\n",
              "    }\n",
              "</style>\n",
              "<table border=\"1\" class=\"dataframe\">\n",
              "  <thead>\n",
              "    <tr style=\"text-align: right;\">\n",
              "      <th></th>\n",
              "      <th>date</th>\n",
              "      <th>Name</th>\n",
              "      <th>return</th>\n",
              "    </tr>\n",
              "  </thead>\n",
              "  <tbody>\n",
              "    <tr>\n",
              "      <th>0</th>\n",
              "      <td>2013-02-08</td>\n",
              "      <td>AAL</td>\n",
              "      <td>-2.123424</td>\n",
              "    </tr>\n",
              "    <tr>\n",
              "      <th>1</th>\n",
              "      <td>2013-02-11</td>\n",
              "      <td>AAL</td>\n",
              "      <td>-2.887844</td>\n",
              "    </tr>\n",
              "    <tr>\n",
              "      <th>2</th>\n",
              "      <td>2013-02-12</td>\n",
              "      <td>AAL</td>\n",
              "      <td>-1.245675</td>\n",
              "    </tr>\n",
              "    <tr>\n",
              "      <th>3</th>\n",
              "      <td>2013-02-13</td>\n",
              "      <td>AAL</td>\n",
              "      <td>2.517483</td>\n",
              "    </tr>\n",
              "    <tr>\n",
              "      <th>4</th>\n",
              "      <td>2013-02-14</td>\n",
              "      <td>AAL</td>\n",
              "      <td>-6.358768</td>\n",
              "    </tr>\n",
              "    <tr>\n",
              "      <th>...</th>\n",
              "      <td>...</td>\n",
              "      <td>...</td>\n",
              "      <td>...</td>\n",
              "    </tr>\n",
              "    <tr>\n",
              "      <th>619035</th>\n",
              "      <td>2018-02-01</td>\n",
              "      <td>ZTS</td>\n",
              "      <td>1.275377</td>\n",
              "    </tr>\n",
              "    <tr>\n",
              "      <th>619036</th>\n",
              "      <td>2018-02-02</td>\n",
              "      <td>ZTS</td>\n",
              "      <td>-0.967367</td>\n",
              "    </tr>\n",
              "    <tr>\n",
              "      <th>619037</th>\n",
              "      <td>2018-02-05</td>\n",
              "      <td>ZTS</td>\n",
              "      <td>-3.666493</td>\n",
              "    </tr>\n",
              "    <tr>\n",
              "      <th>619038</th>\n",
              "      <td>2018-02-06</td>\n",
              "      <td>ZTS</td>\n",
              "      <td>0.728622</td>\n",
              "    </tr>\n",
              "    <tr>\n",
              "      <th>619039</th>\n",
              "      <td>2018-02-07</td>\n",
              "      <td>ZTS</td>\n",
              "      <td>1.595598</td>\n",
              "    </tr>\n",
              "  </tbody>\n",
              "</table>\n",
              "<p>619040 rows × 3 columns</p>\n",
              "</div>\n",
              "      <button class=\"colab-df-convert\" onclick=\"convertToInteractive('df-ae98ba67-f2c5-4a13-bbed-ac97ed603c05')\"\n",
              "              title=\"Convert this dataframe to an interactive table.\"\n",
              "              style=\"display:none;\">\n",
              "        \n",
              "  <svg xmlns=\"http://www.w3.org/2000/svg\" height=\"24px\"viewBox=\"0 0 24 24\"\n",
              "       width=\"24px\">\n",
              "    <path d=\"M0 0h24v24H0V0z\" fill=\"none\"/>\n",
              "    <path d=\"M18.56 5.44l.94 2.06.94-2.06 2.06-.94-2.06-.94-.94-2.06-.94 2.06-2.06.94zm-11 1L8.5 8.5l.94-2.06 2.06-.94-2.06-.94L8.5 2.5l-.94 2.06-2.06.94zm10 10l.94 2.06.94-2.06 2.06-.94-2.06-.94-.94-2.06-.94 2.06-2.06.94z\"/><path d=\"M17.41 7.96l-1.37-1.37c-.4-.4-.92-.59-1.43-.59-.52 0-1.04.2-1.43.59L10.3 9.45l-7.72 7.72c-.78.78-.78 2.05 0 2.83L4 21.41c.39.39.9.59 1.41.59.51 0 1.02-.2 1.41-.59l7.78-7.78 2.81-2.81c.8-.78.8-2.07 0-2.86zM5.41 20L4 18.59l7.72-7.72 1.47 1.35L5.41 20z\"/>\n",
              "  </svg>\n",
              "      </button>\n",
              "      \n",
              "  <style>\n",
              "    .colab-df-container {\n",
              "      display:flex;\n",
              "      flex-wrap:wrap;\n",
              "      gap: 12px;\n",
              "    }\n",
              "\n",
              "    .colab-df-convert {\n",
              "      background-color: #E8F0FE;\n",
              "      border: none;\n",
              "      border-radius: 50%;\n",
              "      cursor: pointer;\n",
              "      display: none;\n",
              "      fill: #1967D2;\n",
              "      height: 32px;\n",
              "      padding: 0 0 0 0;\n",
              "      width: 32px;\n",
              "    }\n",
              "\n",
              "    .colab-df-convert:hover {\n",
              "      background-color: #E2EBFA;\n",
              "      box-shadow: 0px 1px 2px rgba(60, 64, 67, 0.3), 0px 1px 3px 1px rgba(60, 64, 67, 0.15);\n",
              "      fill: #174EA6;\n",
              "    }\n",
              "\n",
              "    [theme=dark] .colab-df-convert {\n",
              "      background-color: #3B4455;\n",
              "      fill: #D2E3FC;\n",
              "    }\n",
              "\n",
              "    [theme=dark] .colab-df-convert:hover {\n",
              "      background-color: #434B5C;\n",
              "      box-shadow: 0px 1px 3px 1px rgba(0, 0, 0, 0.15);\n",
              "      filter: drop-shadow(0px 1px 2px rgba(0, 0, 0, 0.3));\n",
              "      fill: #FFFFFF;\n",
              "    }\n",
              "  </style>\n",
              "\n",
              "      <script>\n",
              "        const buttonEl =\n",
              "          document.querySelector('#df-ae98ba67-f2c5-4a13-bbed-ac97ed603c05 button.colab-df-convert');\n",
              "        buttonEl.style.display =\n",
              "          google.colab.kernel.accessAllowed ? 'block' : 'none';\n",
              "\n",
              "        async function convertToInteractive(key) {\n",
              "          const element = document.querySelector('#df-ae98ba67-f2c5-4a13-bbed-ac97ed603c05');\n",
              "          const dataTable =\n",
              "            await google.colab.kernel.invokeFunction('convertToInteractive',\n",
              "                                                     [key], {});\n",
              "          if (!dataTable) return;\n",
              "\n",
              "          const docLinkHtml = 'Like what you see? Visit the ' +\n",
              "            '<a target=\"_blank\" href=https://colab.research.google.com/notebooks/data_table.ipynb>data table notebook</a>'\n",
              "            + ' to learn more about interactive tables.';\n",
              "          element.innerHTML = '';\n",
              "          dataTable['output_type'] = 'display_data';\n",
              "          await google.colab.output.renderOutput(dataTable, element);\n",
              "          const docLink = document.createElement('div');\n",
              "          docLink.innerHTML = docLinkHtml;\n",
              "          element.appendChild(docLink);\n",
              "        }\n",
              "      </script>\n",
              "    </div>\n",
              "  </div>\n",
              "  "
            ]
          },
          "metadata": {},
          "execution_count": 7
        }
      ]
    },
    {
      "cell_type": "code",
      "source": [
        "matrix = df.set_index(['Name','date']).unstack('date').reset_index()"
      ],
      "metadata": {
        "id": "0Ap_AQznXQys"
      },
      "execution_count": null,
      "outputs": []
    },
    {
      "cell_type": "code",
      "source": [
        "column_names = ['Name']\n",
        "column_names.extend(np.arange(matrix.shape[1]-1))"
      ],
      "metadata": {
        "id": "M03-XhgPaacP"
      },
      "execution_count": null,
      "outputs": []
    },
    {
      "cell_type": "code",
      "source": [
        "matrix.columns = column_names"
      ],
      "metadata": {
        "id": "jAwGkMPzZuof"
      },
      "execution_count": null,
      "outputs": []
    },
    {
      "cell_type": "code",
      "source": [
        "matrix"
      ],
      "metadata": {
        "colab": {
          "base_uri": "https://localhost:8080/",
          "height": 488
        },
        "id": "1iVw462RbGBA",
        "outputId": "100404d7-c382-4ab4-c27d-f80e6d436a90"
      },
      "execution_count": null,
      "outputs": [
        {
          "output_type": "execute_result",
          "data": {
            "text/plain": [
              "     Name         0         1         2         3         4         5  \\\n",
              "0       A  0.022188 -1.261899 -0.424012 -0.133899 -0.313059 -2.828887   \n",
              "1     AAL -2.123424 -2.887844 -1.245675  2.517483 -6.358768  4.091888   \n",
              "2     AAP  0.714833 -0.330579  0.267891  0.088720  0.228833  0.215654   \n",
              "3    AAPL  0.206751  0.719832 -2.421264 -0.042850  0.445600 -1.853431   \n",
              "4    ABBV -0.329942 -0.774979 -0.978474 -0.423490  4.336662  1.760087   \n",
              "..    ...       ...       ...       ...       ...       ...       ...   \n",
              "500   XYL  0.296187  1.291037  1.562500  0.928571  0.885897  0.212615   \n",
              "501   YUM  2.511774 -0.936157  0.263239 -0.555813 -0.591256  0.266374   \n",
              "502   ZBH  1.106372 -0.132013 -0.277594  0.343280  0.632745 -0.419837   \n",
              "503  ZION  0.457761  0.289975  0.864909  0.650936 -0.202593 -1.696284   \n",
              "504   ZTS  2.290313  0.604961  1.017964 -0.739645 -0.359389  2.011408   \n",
              "\n",
              "            6         7         8  ...      1249      1250      1251  \\\n",
              "0    1.895285 -1.400560 -1.210252  ... -0.417959  0.699865  0.067132   \n",
              "1   -0.488486 -5.928017 -1.835536  ... -1.759259 -1.081081 -0.208373   \n",
              "2    2.022245 -1.143994 -0.252334  ... -0.165125  0.243230 -0.510039   \n",
              "3   -0.240772 -1.931353  0.013498  ... -1.945503 -0.284884 -1.292901   \n",
              "4    1.731486  1.179245  0.753442  ...  2.218027  7.606987  0.666667   \n",
              "..        ...       ...       ...  ...       ...       ...       ...   \n",
              "500  1.410437 -2.612330 -0.610413  ...  0.438837  1.238095 -0.891049   \n",
              "501  1.479751 -0.936014  1.213630  ...  0.398500  0.606909  0.453014   \n",
              "502  0.488513 -0.738105 -1.703260  ... -0.850489  1.178262  0.871011   \n",
              "503  1.022913 -2.029221 -1.330561  ... -1.577873  1.217913  0.351852   \n",
              "504 -0.529101 -3.309693  0.184615  ...  0.994010  0.754812 -0.789375   \n",
              "\n",
              "         1252      1253      1254      1255      1256      1257      1258  \n",
              "0   -1.351534 -0.460892 -0.478273 -1.479535 -3.725656  2.225209 -0.190644  \n",
              "1    0.266921  2.336096 -0.222222 -2.598617 -4.289286  3.771290  0.962483  \n",
              "2   -1.891914 -2.394460  0.903304 -1.716701 -2.821760  3.620244 -1.927023  \n",
              "3    0.872980  0.335591  0.367900 -3.313253 -1.640478  5.296131 -2.173713  \n",
              "4   -2.964328 -3.433439  3.652887 -0.285714 -3.088496  5.995615  1.883070  \n",
              "..        ...       ...       ...       ...       ...       ...       ...  \n",
              "500  0.315761 -1.365001  3.227586  0.947298 -3.403350 -0.446615  0.729620  \n",
              "501 -0.482353 -0.035453 -0.308642 -1.513707 -2.765932  2.846203  0.074934  \n",
              "502  2.348639  0.386954  1.456272 -0.991736 -1.290167  1.074380 -0.715166  \n",
              "503  0.409607  0.129726  2.212307 -1.132007 -3.530071  4.185677  3.427149  \n",
              "504 -0.114737 -2.242324  1.275377 -0.967367 -3.666493  0.728622  1.595598  \n",
              "\n",
              "[505 rows x 1260 columns]"
            ],
            "text/html": [
              "\n",
              "  <div id=\"df-3d7693f4-1f65-4102-8bf1-619b94588912\">\n",
              "    <div class=\"colab-df-container\">\n",
              "      <div>\n",
              "<style scoped>\n",
              "    .dataframe tbody tr th:only-of-type {\n",
              "        vertical-align: middle;\n",
              "    }\n",
              "\n",
              "    .dataframe tbody tr th {\n",
              "        vertical-align: top;\n",
              "    }\n",
              "\n",
              "    .dataframe thead th {\n",
              "        text-align: right;\n",
              "    }\n",
              "</style>\n",
              "<table border=\"1\" class=\"dataframe\">\n",
              "  <thead>\n",
              "    <tr style=\"text-align: right;\">\n",
              "      <th></th>\n",
              "      <th>Name</th>\n",
              "      <th>0</th>\n",
              "      <th>1</th>\n",
              "      <th>2</th>\n",
              "      <th>3</th>\n",
              "      <th>4</th>\n",
              "      <th>5</th>\n",
              "      <th>6</th>\n",
              "      <th>7</th>\n",
              "      <th>8</th>\n",
              "      <th>...</th>\n",
              "      <th>1249</th>\n",
              "      <th>1250</th>\n",
              "      <th>1251</th>\n",
              "      <th>1252</th>\n",
              "      <th>1253</th>\n",
              "      <th>1254</th>\n",
              "      <th>1255</th>\n",
              "      <th>1256</th>\n",
              "      <th>1257</th>\n",
              "      <th>1258</th>\n",
              "    </tr>\n",
              "  </thead>\n",
              "  <tbody>\n",
              "    <tr>\n",
              "      <th>0</th>\n",
              "      <td>A</td>\n",
              "      <td>0.022188</td>\n",
              "      <td>-1.261899</td>\n",
              "      <td>-0.424012</td>\n",
              "      <td>-0.133899</td>\n",
              "      <td>-0.313059</td>\n",
              "      <td>-2.828887</td>\n",
              "      <td>1.895285</td>\n",
              "      <td>-1.400560</td>\n",
              "      <td>-1.210252</td>\n",
              "      <td>...</td>\n",
              "      <td>-0.417959</td>\n",
              "      <td>0.699865</td>\n",
              "      <td>0.067132</td>\n",
              "      <td>-1.351534</td>\n",
              "      <td>-0.460892</td>\n",
              "      <td>-0.478273</td>\n",
              "      <td>-1.479535</td>\n",
              "      <td>-3.725656</td>\n",
              "      <td>2.225209</td>\n",
              "      <td>-0.190644</td>\n",
              "    </tr>\n",
              "    <tr>\n",
              "      <th>1</th>\n",
              "      <td>AAL</td>\n",
              "      <td>-2.123424</td>\n",
              "      <td>-2.887844</td>\n",
              "      <td>-1.245675</td>\n",
              "      <td>2.517483</td>\n",
              "      <td>-6.358768</td>\n",
              "      <td>4.091888</td>\n",
              "      <td>-0.488486</td>\n",
              "      <td>-5.928017</td>\n",
              "      <td>-1.835536</td>\n",
              "      <td>...</td>\n",
              "      <td>-1.759259</td>\n",
              "      <td>-1.081081</td>\n",
              "      <td>-0.208373</td>\n",
              "      <td>0.266921</td>\n",
              "      <td>2.336096</td>\n",
              "      <td>-0.222222</td>\n",
              "      <td>-2.598617</td>\n",
              "      <td>-4.289286</td>\n",
              "      <td>3.771290</td>\n",
              "      <td>0.962483</td>\n",
              "    </tr>\n",
              "    <tr>\n",
              "      <th>2</th>\n",
              "      <td>AAP</td>\n",
              "      <td>0.714833</td>\n",
              "      <td>-0.330579</td>\n",
              "      <td>0.267891</td>\n",
              "      <td>0.088720</td>\n",
              "      <td>0.228833</td>\n",
              "      <td>0.215654</td>\n",
              "      <td>2.022245</td>\n",
              "      <td>-1.143994</td>\n",
              "      <td>-0.252334</td>\n",
              "      <td>...</td>\n",
              "      <td>-0.165125</td>\n",
              "      <td>0.243230</td>\n",
              "      <td>-0.510039</td>\n",
              "      <td>-1.891914</td>\n",
              "      <td>-2.394460</td>\n",
              "      <td>0.903304</td>\n",
              "      <td>-1.716701</td>\n",
              "      <td>-2.821760</td>\n",
              "      <td>3.620244</td>\n",
              "      <td>-1.927023</td>\n",
              "    </tr>\n",
              "    <tr>\n",
              "      <th>3</th>\n",
              "      <td>AAPL</td>\n",
              "      <td>0.206751</td>\n",
              "      <td>0.719832</td>\n",
              "      <td>-2.421264</td>\n",
              "      <td>-0.042850</td>\n",
              "      <td>0.445600</td>\n",
              "      <td>-1.853431</td>\n",
              "      <td>-0.240772</td>\n",
              "      <td>-1.931353</td>\n",
              "      <td>0.013498</td>\n",
              "      <td>...</td>\n",
              "      <td>-1.945503</td>\n",
              "      <td>-0.284884</td>\n",
              "      <td>-1.292901</td>\n",
              "      <td>0.872980</td>\n",
              "      <td>0.335591</td>\n",
              "      <td>0.367900</td>\n",
              "      <td>-3.313253</td>\n",
              "      <td>-1.640478</td>\n",
              "      <td>5.296131</td>\n",
              "      <td>-2.173713</td>\n",
              "    </tr>\n",
              "    <tr>\n",
              "      <th>4</th>\n",
              "      <td>ABBV</td>\n",
              "      <td>-0.329942</td>\n",
              "      <td>-0.774979</td>\n",
              "      <td>-0.978474</td>\n",
              "      <td>-0.423490</td>\n",
              "      <td>4.336662</td>\n",
              "      <td>1.760087</td>\n",
              "      <td>1.731486</td>\n",
              "      <td>1.179245</td>\n",
              "      <td>0.753442</td>\n",
              "      <td>...</td>\n",
              "      <td>2.218027</td>\n",
              "      <td>7.606987</td>\n",
              "      <td>0.666667</td>\n",
              "      <td>-2.964328</td>\n",
              "      <td>-3.433439</td>\n",
              "      <td>3.652887</td>\n",
              "      <td>-0.285714</td>\n",
              "      <td>-3.088496</td>\n",
              "      <td>5.995615</td>\n",
              "      <td>1.883070</td>\n",
              "    </tr>\n",
              "    <tr>\n",
              "      <th>...</th>\n",
              "      <td>...</td>\n",
              "      <td>...</td>\n",
              "      <td>...</td>\n",
              "      <td>...</td>\n",
              "      <td>...</td>\n",
              "      <td>...</td>\n",
              "      <td>...</td>\n",
              "      <td>...</td>\n",
              "      <td>...</td>\n",
              "      <td>...</td>\n",
              "      <td>...</td>\n",
              "      <td>...</td>\n",
              "      <td>...</td>\n",
              "      <td>...</td>\n",
              "      <td>...</td>\n",
              "      <td>...</td>\n",
              "      <td>...</td>\n",
              "      <td>...</td>\n",
              "      <td>...</td>\n",
              "      <td>...</td>\n",
              "      <td>...</td>\n",
              "    </tr>\n",
              "    <tr>\n",
              "      <th>500</th>\n",
              "      <td>XYL</td>\n",
              "      <td>0.296187</td>\n",
              "      <td>1.291037</td>\n",
              "      <td>1.562500</td>\n",
              "      <td>0.928571</td>\n",
              "      <td>0.885897</td>\n",
              "      <td>0.212615</td>\n",
              "      <td>1.410437</td>\n",
              "      <td>-2.612330</td>\n",
              "      <td>-0.610413</td>\n",
              "      <td>...</td>\n",
              "      <td>0.438837</td>\n",
              "      <td>1.238095</td>\n",
              "      <td>-0.891049</td>\n",
              "      <td>0.315761</td>\n",
              "      <td>-1.365001</td>\n",
              "      <td>3.227586</td>\n",
              "      <td>0.947298</td>\n",
              "      <td>-3.403350</td>\n",
              "      <td>-0.446615</td>\n",
              "      <td>0.729620</td>\n",
              "    </tr>\n",
              "    <tr>\n",
              "      <th>501</th>\n",
              "      <td>YUM</td>\n",
              "      <td>2.511774</td>\n",
              "      <td>-0.936157</td>\n",
              "      <td>0.263239</td>\n",
              "      <td>-0.555813</td>\n",
              "      <td>-0.591256</td>\n",
              "      <td>0.266374</td>\n",
              "      <td>1.479751</td>\n",
              "      <td>-0.936014</td>\n",
              "      <td>1.213630</td>\n",
              "      <td>...</td>\n",
              "      <td>0.398500</td>\n",
              "      <td>0.606909</td>\n",
              "      <td>0.453014</td>\n",
              "      <td>-0.482353</td>\n",
              "      <td>-0.035453</td>\n",
              "      <td>-0.308642</td>\n",
              "      <td>-1.513707</td>\n",
              "      <td>-2.765932</td>\n",
              "      <td>2.846203</td>\n",
              "      <td>0.074934</td>\n",
              "    </tr>\n",
              "    <tr>\n",
              "      <th>502</th>\n",
              "      <td>ZBH</td>\n",
              "      <td>1.106372</td>\n",
              "      <td>-0.132013</td>\n",
              "      <td>-0.277594</td>\n",
              "      <td>0.343280</td>\n",
              "      <td>0.632745</td>\n",
              "      <td>-0.419837</td>\n",
              "      <td>0.488513</td>\n",
              "      <td>-0.738105</td>\n",
              "      <td>-1.703260</td>\n",
              "      <td>...</td>\n",
              "      <td>-0.850489</td>\n",
              "      <td>1.178262</td>\n",
              "      <td>0.871011</td>\n",
              "      <td>2.348639</td>\n",
              "      <td>0.386954</td>\n",
              "      <td>1.456272</td>\n",
              "      <td>-0.991736</td>\n",
              "      <td>-1.290167</td>\n",
              "      <td>1.074380</td>\n",
              "      <td>-0.715166</td>\n",
              "    </tr>\n",
              "    <tr>\n",
              "      <th>503</th>\n",
              "      <td>ZION</td>\n",
              "      <td>0.457761</td>\n",
              "      <td>0.289975</td>\n",
              "      <td>0.864909</td>\n",
              "      <td>0.650936</td>\n",
              "      <td>-0.202593</td>\n",
              "      <td>-1.696284</td>\n",
              "      <td>1.022913</td>\n",
              "      <td>-2.029221</td>\n",
              "      <td>-1.330561</td>\n",
              "      <td>...</td>\n",
              "      <td>-1.577873</td>\n",
              "      <td>1.217913</td>\n",
              "      <td>0.351852</td>\n",
              "      <td>0.409607</td>\n",
              "      <td>0.129726</td>\n",
              "      <td>2.212307</td>\n",
              "      <td>-1.132007</td>\n",
              "      <td>-3.530071</td>\n",
              "      <td>4.185677</td>\n",
              "      <td>3.427149</td>\n",
              "    </tr>\n",
              "    <tr>\n",
              "      <th>504</th>\n",
              "      <td>ZTS</td>\n",
              "      <td>2.290313</td>\n",
              "      <td>0.604961</td>\n",
              "      <td>1.017964</td>\n",
              "      <td>-0.739645</td>\n",
              "      <td>-0.359389</td>\n",
              "      <td>2.011408</td>\n",
              "      <td>-0.529101</td>\n",
              "      <td>-3.309693</td>\n",
              "      <td>0.184615</td>\n",
              "      <td>...</td>\n",
              "      <td>0.994010</td>\n",
              "      <td>0.754812</td>\n",
              "      <td>-0.789375</td>\n",
              "      <td>-0.114737</td>\n",
              "      <td>-2.242324</td>\n",
              "      <td>1.275377</td>\n",
              "      <td>-0.967367</td>\n",
              "      <td>-3.666493</td>\n",
              "      <td>0.728622</td>\n",
              "      <td>1.595598</td>\n",
              "    </tr>\n",
              "  </tbody>\n",
              "</table>\n",
              "<p>505 rows × 1260 columns</p>\n",
              "</div>\n",
              "      <button class=\"colab-df-convert\" onclick=\"convertToInteractive('df-3d7693f4-1f65-4102-8bf1-619b94588912')\"\n",
              "              title=\"Convert this dataframe to an interactive table.\"\n",
              "              style=\"display:none;\">\n",
              "        \n",
              "  <svg xmlns=\"http://www.w3.org/2000/svg\" height=\"24px\"viewBox=\"0 0 24 24\"\n",
              "       width=\"24px\">\n",
              "    <path d=\"M0 0h24v24H0V0z\" fill=\"none\"/>\n",
              "    <path d=\"M18.56 5.44l.94 2.06.94-2.06 2.06-.94-2.06-.94-.94-2.06-.94 2.06-2.06.94zm-11 1L8.5 8.5l.94-2.06 2.06-.94-2.06-.94L8.5 2.5l-.94 2.06-2.06.94zm10 10l.94 2.06.94-2.06 2.06-.94-2.06-.94-.94-2.06-.94 2.06-2.06.94z\"/><path d=\"M17.41 7.96l-1.37-1.37c-.4-.4-.92-.59-1.43-.59-.52 0-1.04.2-1.43.59L10.3 9.45l-7.72 7.72c-.78.78-.78 2.05 0 2.83L4 21.41c.39.39.9.59 1.41.59.51 0 1.02-.2 1.41-.59l7.78-7.78 2.81-2.81c.8-.78.8-2.07 0-2.86zM5.41 20L4 18.59l7.72-7.72 1.47 1.35L5.41 20z\"/>\n",
              "  </svg>\n",
              "      </button>\n",
              "      \n",
              "  <style>\n",
              "    .colab-df-container {\n",
              "      display:flex;\n",
              "      flex-wrap:wrap;\n",
              "      gap: 12px;\n",
              "    }\n",
              "\n",
              "    .colab-df-convert {\n",
              "      background-color: #E8F0FE;\n",
              "      border: none;\n",
              "      border-radius: 50%;\n",
              "      cursor: pointer;\n",
              "      display: none;\n",
              "      fill: #1967D2;\n",
              "      height: 32px;\n",
              "      padding: 0 0 0 0;\n",
              "      width: 32px;\n",
              "    }\n",
              "\n",
              "    .colab-df-convert:hover {\n",
              "      background-color: #E2EBFA;\n",
              "      box-shadow: 0px 1px 2px rgba(60, 64, 67, 0.3), 0px 1px 3px 1px rgba(60, 64, 67, 0.15);\n",
              "      fill: #174EA6;\n",
              "    }\n",
              "\n",
              "    [theme=dark] .colab-df-convert {\n",
              "      background-color: #3B4455;\n",
              "      fill: #D2E3FC;\n",
              "    }\n",
              "\n",
              "    [theme=dark] .colab-df-convert:hover {\n",
              "      background-color: #434B5C;\n",
              "      box-shadow: 0px 1px 3px 1px rgba(0, 0, 0, 0.15);\n",
              "      filter: drop-shadow(0px 1px 2px rgba(0, 0, 0, 0.3));\n",
              "      fill: #FFFFFF;\n",
              "    }\n",
              "  </style>\n",
              "\n",
              "      <script>\n",
              "        const buttonEl =\n",
              "          document.querySelector('#df-3d7693f4-1f65-4102-8bf1-619b94588912 button.colab-df-convert');\n",
              "        buttonEl.style.display =\n",
              "          google.colab.kernel.accessAllowed ? 'block' : 'none';\n",
              "\n",
              "        async function convertToInteractive(key) {\n",
              "          const element = document.querySelector('#df-3d7693f4-1f65-4102-8bf1-619b94588912');\n",
              "          const dataTable =\n",
              "            await google.colab.kernel.invokeFunction('convertToInteractive',\n",
              "                                                     [key], {});\n",
              "          if (!dataTable) return;\n",
              "\n",
              "          const docLinkHtml = 'Like what you see? Visit the ' +\n",
              "            '<a target=\"_blank\" href=https://colab.research.google.com/notebooks/data_table.ipynb>data table notebook</a>'\n",
              "            + ' to learn more about interactive tables.';\n",
              "          element.innerHTML = '';\n",
              "          dataTable['output_type'] = 'display_data';\n",
              "          await google.colab.output.renderOutput(dataTable, element);\n",
              "          const docLink = document.createElement('div');\n",
              "          docLink.innerHTML = docLinkHtml;\n",
              "          element.appendChild(docLink);\n",
              "        }\n",
              "      </script>\n",
              "    </div>\n",
              "  </div>\n",
              "  "
            ]
          },
          "metadata": {},
          "execution_count": 11
        }
      ]
    },
    {
      "cell_type": "code",
      "source": [
        "d = 252\n",
        "rolling_window = 252"
      ],
      "metadata": {
        "id": "g4kca1xNbWJG"
      },
      "execution_count": null,
      "outputs": []
    },
    {
      "cell_type": "code",
      "source": [
        "corr = np.corrcoef(matrix.loc[:,d-rolling_window:d+1])"
      ],
      "metadata": {
        "id": "5TO_nhYpcQPa"
      },
      "execution_count": null,
      "outputs": []
    },
    {
      "cell_type": "code",
      "source": [
        "from sklearn.metrics.pairwise import cosine_similarity as cs"
      ],
      "metadata": {
        "id": "YvKHcB9ScS1S"
      },
      "execution_count": null,
      "outputs": []
    },
    {
      "cell_type": "code",
      "source": [
        "corr_clean = np.nan_to_num(corr)\n",
        "np.where(corr_clean[np.logical_or(corr_clean > 1, corr_clean < -1)])"
      ],
      "metadata": {
        "colab": {
          "base_uri": "https://localhost:8080/"
        },
        "id": "0QbP5Ez3cxlg",
        "outputId": "497805ea-4159-4e49-c569-5af0db2582c6"
      },
      "execution_count": null,
      "outputs": [
        {
          "output_type": "execute_result",
          "data": {
            "text/plain": [
              "(array([], dtype=int64),)"
            ]
          },
          "metadata": {},
          "execution_count": 15
        }
      ]
    },
    {
      "cell_type": "code",
      "source": [
        "dist = cs(corr_clean) / np.pi"
      ],
      "metadata": {
        "id": "GY75MI_vcicE"
      },
      "execution_count": null,
      "outputs": []
    },
    {
      "cell_type": "code",
      "source": [
        "dist.shape"
      ],
      "metadata": {
        "colab": {
          "base_uri": "https://localhost:8080/"
        },
        "id": "W6QLmZ_XdyH_",
        "outputId": "9358ba24-65f9-4c33-a2ee-9e0b6644848c"
      },
      "execution_count": null,
      "outputs": [
        {
          "output_type": "execute_result",
          "data": {
            "text/plain": [
              "(505, 505)"
            ]
          },
          "metadata": {},
          "execution_count": 17
        }
      ]
    },
    {
      "cell_type": "code",
      "source": [
        "from sklearn.manifold import TSNE"
      ],
      "metadata": {
        "id": "YcGq6e4AdwPE"
      },
      "execution_count": null,
      "outputs": []
    },
    {
      "cell_type": "code",
      "source": [
        "embedding = TSNE(n_components=2).fit_transform(dist)"
      ],
      "metadata": {
        "colab": {
          "base_uri": "https://localhost:8080/"
        },
        "id": "ZcFD74WTdxU3",
        "outputId": "9567952d-59a2-43c4-cb1d-7d6a8e4ee189"
      },
      "execution_count": null,
      "outputs": [
        {
          "output_type": "stream",
          "name": "stderr",
          "text": [
            "/usr/local/lib/python3.7/dist-packages/sklearn/manifold/_t_sne.py:783: FutureWarning: The default initialization in TSNE will change from 'random' to 'pca' in 1.2.\n",
            "  FutureWarning,\n",
            "/usr/local/lib/python3.7/dist-packages/sklearn/manifold/_t_sne.py:793: FutureWarning: The default learning rate in TSNE will change from 200.0 to 'auto' in 1.2.\n",
            "  FutureWarning,\n"
          ]
        }
      ]
    },
    {
      "cell_type": "code",
      "source": [
        "from sklearn.cluster import OPTICS"
      ],
      "metadata": {
        "id": "raoii5W3d5Zr"
      },
      "execution_count": null,
      "outputs": []
    },
    {
      "cell_type": "code",
      "source": [
        "minPts = int(len(dist) * 0.05)\n",
        "clusters = OPTICS(min_samples=minPts,xi=0.001).fit(dist)"
      ],
      "metadata": {
        "colab": {
          "base_uri": "https://localhost:8080/"
        },
        "id": "R0qWvFWWd-DQ",
        "outputId": "a31e2ed2-383a-4f44-f7f6-22f0a3bcfa29"
      },
      "execution_count": null,
      "outputs": [
        {
          "output_type": "stream",
          "name": "stderr",
          "text": [
            "/usr/local/lib/python3.7/dist-packages/sklearn/cluster/_optics.py:903: RuntimeWarning: divide by zero encountered in true_divide\n",
            "  ratio = reachability_plot[:-1] / reachability_plot[1:]\n"
          ]
        }
      ]
    },
    {
      "cell_type": "code",
      "source": [
        "df = pd.DataFrame()\n",
        "df[\"x_component\"]=embedding[:,0]\n",
        "df[\"y_component\"]=embedding[:,1]\n",
        "    \n",
        "fig,ax = plt.subplots()\n",
        "sns.scatterplot(data=df, x=\"x_component\", y=\"y_component\",hue=clusters.labels_)\n",
        "plt.show()"
      ],
      "metadata": {
        "colab": {
          "base_uri": "https://localhost:8080/",
          "height": 280
        },
        "id": "qzme4uTZeCjY",
        "outputId": "b90d48a8-8a43-4a8e-f78f-5d9f5f71a65b"
      },
      "execution_count": null,
      "outputs": [
        {
          "output_type": "display_data",
          "data": {
            "text/plain": [
              "<Figure size 432x288 with 1 Axes>"
            ],
            "image/png": "[encoded data removed]"
          },
          "metadata": {
            "needs_background": "light"
          }
        }
      ]
    },
    {
      "cell_type": "code",
      "source": [
        "space = np.arange(len(dist))\n",
        "reachability = clusters.reachability_[clusters.ordering_]\n",
        "labels = clusters.labels_[clusters.ordering_]"
      ],
      "metadata": {
        "id": "2WeewuAcHnfV"
      },
      "execution_count": null,
      "outputs": []
    },
    {
      "cell_type": "code",
      "source": [
        "matrix[clusters.labels_ == 1]['Name']"
      ],
      "metadata": {
        "colab": {
          "base_uri": "https://localhost:8080/"
        },
        "id": "E8vuqDSOeH-p",
        "outputId": "f54b5bd2-c03c-431d-a7ad-fb36e2751694"
      },
      "execution_count": null,
      "outputs": [
        {
          "output_type": "execute_result",
          "data": {
            "text/plain": [
              "66     BF.B\n",
              "80      CAG\n",
              "94      CHD\n",
              "109     CNP\n",
              "115    COST\n",
              "123     CTL\n",
              "144     DPS\n",
              "145     DRE\n",
              "177     EXR\n",
              "196     FRT\n",
              "201     GGP\n",
              "238     HSY\n",
              "253     IRM\n",
              "265       K\n",
              "268     KIM\n",
              "285     LLY\n",
              "288     LNT\n",
              "297     MAC\n",
              "301     MCD\n",
              "305    MDLZ\n",
              "310     MKC\n",
              "315      MO\n",
              "336      NI\n",
              "341     NRG\n",
              "351     OKE\n",
              "372     PLD\n",
              "373      PM\n",
              "392     REG\n",
              "406    SBAC\n",
              "413     SJM\n",
              "420     SPG\n",
              "423     SRE\n",
              "433     SYY\n",
              "434       T\n",
              "435     TAP\n",
              "472     VNO\n",
              "Name: Name, dtype: object"
            ]
          },
          "metadata": {},
          "execution_count": 23
        }
      ]
    },
    {
      "cell_type": "markdown",
      "metadata": {
        "id": "uslqyrukRMAC"
      },
      "source": [
        "## Plotting the change in total number of items"
      ]
    },
    {
      "cell_type": "code",
      "execution_count": null,
      "metadata": {
        "scrolled": true,
        "id": "vCotf-JbRMAD",
        "outputId": "97e8b10e-1ac3-496d-a6e1-71694d5ba5ca",
        "colab": {
          "base_uri": "https://localhost:8080/",
          "height": 1000
        }
      },
      "outputs": [
        {
          "output_type": "display_data",
          "data": {
            "text/plain": [
              "<Figure size 1440x720 with 1 Axes>"
            ],
            "image/png": "[encoded data removed]"
          },
          "metadata": {
            "needs_background": "light"
          }
        },
        {
          "output_type": "stream",
          "name": "stderr",
          "text": [
            "/usr/local/lib/python3.7/dist-packages/ipykernel_launcher.py:15: FutureWarning: The pandas.datetime class is deprecated and will be removed from pandas in a future version. Import from datetime module instead.\n",
            "  from ipykernel import kernelapp as app\n"
          ]
        },
        {
          "output_type": "error",
          "ename": "TypeError",
          "evalue": "ignored",
          "traceback": [
            "\u001b[0;31m---------------------------------------------------------------------------\u001b[0m",
            "\u001b[0;31mTypeError\u001b[0m                                 Traceback (most recent call last)",
            "\u001b[0;32m<ipython-input-24-a9107177d3de>\u001b[0m in \u001b[0;36m<module>\u001b[0;34m\u001b[0m\n\u001b[1;32m     13\u001b[0m \u001b[0;31m# findout when was the first big change\u001b[0m\u001b[0;34m\u001b[0m\u001b[0;34m\u001b[0m\u001b[0;34m\u001b[0m\u001b[0m\n\u001b[1;32m     14\u001b[0m \u001b[0mplt\u001b[0m\u001b[0;34m.\u001b[0m\u001b[0mfigure\u001b[0m\u001b[0;34m(\u001b[0m\u001b[0mfigsize\u001b[0m\u001b[0;34m=\u001b[0m\u001b[0;34m(\u001b[0m\u001b[0;36m15\u001b[0m\u001b[0;34m,\u001b[0m\u001b[0;36m10\u001b[0m\u001b[0;34m)\u001b[0m\u001b[0;34m)\u001b[0m\u001b[0;34m\u001b[0m\u001b[0;34m\u001b[0m\u001b[0m\n\u001b[0;32m---> 15\u001b[0;31m \u001b[0mcounts_df1\u001b[0m \u001b[0;34m=\u001b[0m \u001b[0mcounts_df\u001b[0m\u001b[0;34m[\u001b[0m\u001b[0;34m(\u001b[0m\u001b[0mcounts_df\u001b[0m\u001b[0;34m[\u001b[0m\u001b[0;34m'date'\u001b[0m\u001b[0;34m]\u001b[0m\u001b[0;34m>\u001b[0m\u001b[0mpd\u001b[0m\u001b[0;34m.\u001b[0m\u001b[0mdatetime\u001b[0m\u001b[0;34m(\u001b[0m\u001b[0myear\u001b[0m\u001b[0;34m=\u001b[0m\u001b[0;36m1977\u001b[0m\u001b[0;34m,\u001b[0m\u001b[0mmonth\u001b[0m\u001b[0;34m=\u001b[0m\u001b[0;36m6\u001b[0m\u001b[0;34m,\u001b[0m\u001b[0mday\u001b[0m\u001b[0;34m=\u001b[0m\u001b[0;36m1\u001b[0m\u001b[0;34m)\u001b[0m\u001b[0;34m)\u001b[0m \u001b[0;34m&\u001b[0m \u001b[0;34m(\u001b[0m\u001b[0mcounts_df\u001b[0m\u001b[0;34m[\u001b[0m\u001b[0;34m'date'\u001b[0m\u001b[0;34m]\u001b[0m\u001b[0;34m<\u001b[0m\u001b[0mpd\u001b[0m\u001b[0;34m.\u001b[0m\u001b[0mdatetime\u001b[0m\u001b[0;34m(\u001b[0m\u001b[0myear\u001b[0m\u001b[0;34m=\u001b[0m\u001b[0;36m1978\u001b[0m\u001b[0;34m,\u001b[0m\u001b[0mmonth\u001b[0m\u001b[0;34m=\u001b[0m\u001b[0;36m6\u001b[0m\u001b[0;34m,\u001b[0m\u001b[0mday\u001b[0m\u001b[0;34m=\u001b[0m\u001b[0;36m1\u001b[0m\u001b[0;34m)\u001b[0m\u001b[0;34m)\u001b[0m\u001b[0;34m]\u001b[0m\u001b[0;34m\u001b[0m\u001b[0;34m\u001b[0m\u001b[0m\n\u001b[0m\u001b[1;32m     16\u001b[0m \u001b[0max2\u001b[0m \u001b[0;34m=\u001b[0m \u001b[0mplt\u001b[0m\u001b[0;34m.\u001b[0m\u001b[0mplot\u001b[0m\u001b[0;34m(\u001b[0m\u001b[0mcounts_df1\u001b[0m\u001b[0;34m[\u001b[0m\u001b[0;34m'date'\u001b[0m\u001b[0;34m]\u001b[0m\u001b[0;34m,\u001b[0m\u001b[0mcounts_df1\u001b[0m\u001b[0;34m[\u001b[0m\u001b[0;34m'count'\u001b[0m\u001b[0;34m]\u001b[0m\u001b[0;34m)\u001b[0m\u001b[0;34m\u001b[0m\u001b[0;34m\u001b[0m\u001b[0m\n\u001b[1;32m     17\u001b[0m \u001b[0mplt\u001b[0m\u001b[0;34m.\u001b[0m\u001b[0mshow\u001b[0m\u001b[0;34m(\u001b[0m\u001b[0;34m)\u001b[0m\u001b[0;34m\u001b[0m\u001b[0;34m\u001b[0m\u001b[0m\n",
            "\u001b[0;32m/usr/local/lib/python3.7/dist-packages/pandas/core/ops/common.py\u001b[0m in \u001b[0;36mnew_method\u001b[0;34m(self, other)\u001b[0m\n\u001b[1;32m     67\u001b[0m         \u001b[0mother\u001b[0m \u001b[0;34m=\u001b[0m \u001b[0mitem_from_zerodim\u001b[0m\u001b[0;34m(\u001b[0m\u001b[0mother\u001b[0m\u001b[0;34m)\u001b[0m\u001b[0;34m\u001b[0m\u001b[0;34m\u001b[0m\u001b[0m\n\u001b[1;32m     68\u001b[0m \u001b[0;34m\u001b[0m\u001b[0m\n\u001b[0;32m---> 69\u001b[0;31m         \u001b[0;32mreturn\u001b[0m \u001b[0mmethod\u001b[0m\u001b[0;34m(\u001b[0m\u001b[0mself\u001b[0m\u001b[0;34m,\u001b[0m \u001b[0mother\u001b[0m\u001b[0;34m)\u001b[0m\u001b[0;34m\u001b[0m\u001b[0;34m\u001b[0m\u001b[0m\n\u001b[0m\u001b[1;32m     70\u001b[0m \u001b[0;34m\u001b[0m\u001b[0m\n\u001b[1;32m     71\u001b[0m     \u001b[0;32mreturn\u001b[0m \u001b[0mnew_method\u001b[0m\u001b[0;34m\u001b[0m\u001b[0;34m\u001b[0m\u001b[0m\n",
            "\u001b[0;32m/usr/local/lib/python3.7/dist-packages/pandas/core/arraylike.py\u001b[0m in \u001b[0;36m__gt__\u001b[0;34m(self, other)\u001b[0m\n\u001b[1;32m     46\u001b[0m     \u001b[0;34m@\u001b[0m\u001b[0munpack_zerodim_and_defer\u001b[0m\u001b[0;34m(\u001b[0m\u001b[0;34m\"__gt__\"\u001b[0m\u001b[0;34m)\u001b[0m\u001b[0;34m\u001b[0m\u001b[0;34m\u001b[0m\u001b[0m\n\u001b[1;32m     47\u001b[0m     \u001b[0;32mdef\u001b[0m \u001b[0m__gt__\u001b[0m\u001b[0;34m(\u001b[0m\u001b[0mself\u001b[0m\u001b[0;34m,\u001b[0m \u001b[0mother\u001b[0m\u001b[0;34m)\u001b[0m\u001b[0;34m:\u001b[0m\u001b[0;34m\u001b[0m\u001b[0;34m\u001b[0m\u001b[0m\n\u001b[0;32m---> 48\u001b[0;31m         \u001b[0;32mreturn\u001b[0m \u001b[0mself\u001b[0m\u001b[0;34m.\u001b[0m\u001b[0m_cmp_method\u001b[0m\u001b[0;34m(\u001b[0m\u001b[0mother\u001b[0m\u001b[0;34m,\u001b[0m \u001b[0moperator\u001b[0m\u001b[0;34m.\u001b[0m\u001b[0mgt\u001b[0m\u001b[0;34m)\u001b[0m\u001b[0;34m\u001b[0m\u001b[0;34m\u001b[0m\u001b[0m\n\u001b[0m\u001b[1;32m     49\u001b[0m \u001b[0;34m\u001b[0m\u001b[0m\n\u001b[1;32m     50\u001b[0m     \u001b[0;34m@\u001b[0m\u001b[0munpack_zerodim_and_defer\u001b[0m\u001b[0;34m(\u001b[0m\u001b[0;34m\"__ge__\"\u001b[0m\u001b[0;34m)\u001b[0m\u001b[0;34m\u001b[0m\u001b[0;34m\u001b[0m\u001b[0m\n",
            "\u001b[0;32m/usr/local/lib/python3.7/dist-packages/pandas/core/series.py\u001b[0m in \u001b[0;36m_cmp_method\u001b[0;34m(self, other, op)\u001b[0m\n\u001b[1;32m   5500\u001b[0m \u001b[0;34m\u001b[0m\u001b[0m\n\u001b[1;32m   5501\u001b[0m         \u001b[0;32mwith\u001b[0m \u001b[0mnp\u001b[0m\u001b[0;34m.\u001b[0m\u001b[0merrstate\u001b[0m\u001b[0;34m(\u001b[0m\u001b[0mall\u001b[0m\u001b[0;34m=\u001b[0m\u001b[0;34m\"ignore\"\u001b[0m\u001b[0;34m)\u001b[0m\u001b[0;34m:\u001b[0m\u001b[0;34m\u001b[0m\u001b[0;34m\u001b[0m\u001b[0m\n\u001b[0;32m-> 5502\u001b[0;31m             \u001b[0mres_values\u001b[0m \u001b[0;34m=\u001b[0m \u001b[0mops\u001b[0m\u001b[0;34m.\u001b[0m\u001b[0mcomparison_op\u001b[0m\u001b[0;34m(\u001b[0m\u001b[0mlvalues\u001b[0m\u001b[0;34m,\u001b[0m \u001b[0mrvalues\u001b[0m\u001b[0;34m,\u001b[0m \u001b[0mop\u001b[0m\u001b[0;34m)\u001b[0m\u001b[0;34m\u001b[0m\u001b[0;34m\u001b[0m\u001b[0m\n\u001b[0m\u001b[1;32m   5503\u001b[0m \u001b[0;34m\u001b[0m\u001b[0m\n\u001b[1;32m   5504\u001b[0m         \u001b[0;32mreturn\u001b[0m \u001b[0mself\u001b[0m\u001b[0;34m.\u001b[0m\u001b[0m_construct_result\u001b[0m\u001b[0;34m(\u001b[0m\u001b[0mres_values\u001b[0m\u001b[0;34m,\u001b[0m \u001b[0mname\u001b[0m\u001b[0;34m=\u001b[0m\u001b[0mres_name\u001b[0m\u001b[0;34m)\u001b[0m\u001b[0;34m\u001b[0m\u001b[0;34m\u001b[0m\u001b[0m\n",
            "\u001b[0;32m/usr/local/lib/python3.7/dist-packages/pandas/core/ops/array_ops.py\u001b[0m in \u001b[0;36mcomparison_op\u001b[0;34m(left, right, op)\u001b[0m\n\u001b[1;32m    285\u001b[0m \u001b[0;34m\u001b[0m\u001b[0m\n\u001b[1;32m    286\u001b[0m     \u001b[0;32melse\u001b[0m\u001b[0;34m:\u001b[0m\u001b[0;34m\u001b[0m\u001b[0;34m\u001b[0m\u001b[0m\n\u001b[0;32m--> 287\u001b[0;31m         \u001b[0mres_values\u001b[0m \u001b[0;34m=\u001b[0m \u001b[0m_na_arithmetic_op\u001b[0m\u001b[0;34m(\u001b[0m\u001b[0mlvalues\u001b[0m\u001b[0;34m,\u001b[0m \u001b[0mrvalues\u001b[0m\u001b[0;34m,\u001b[0m \u001b[0mop\u001b[0m\u001b[0;34m,\u001b[0m \u001b[0mis_cmp\u001b[0m\u001b[0;34m=\u001b[0m\u001b[0;32mTrue\u001b[0m\u001b[0;34m)\u001b[0m\u001b[0;34m\u001b[0m\u001b[0;34m\u001b[0m\u001b[0m\n\u001b[0m\u001b[1;32m    288\u001b[0m \u001b[0;34m\u001b[0m\u001b[0m\n\u001b[1;32m    289\u001b[0m     \u001b[0;32mreturn\u001b[0m \u001b[0mres_values\u001b[0m\u001b[0;34m\u001b[0m\u001b[0;34m\u001b[0m\u001b[0m\n",
            "\u001b[0;32m/usr/local/lib/python3.7/dist-packages/pandas/core/ops/array_ops.py\u001b[0m in \u001b[0;36m_na_arithmetic_op\u001b[0;34m(left, right, op, is_cmp)\u001b[0m\n\u001b[1;32m    164\u001b[0m \u001b[0;34m\u001b[0m\u001b[0m\n\u001b[1;32m    165\u001b[0m     \u001b[0;32mtry\u001b[0m\u001b[0;34m:\u001b[0m\u001b[0;34m\u001b[0m\u001b[0;34m\u001b[0m\u001b[0m\n\u001b[0;32m--> 166\u001b[0;31m         \u001b[0mresult\u001b[0m \u001b[0;34m=\u001b[0m \u001b[0mfunc\u001b[0m\u001b[0;34m(\u001b[0m\u001b[0mleft\u001b[0m\u001b[0;34m,\u001b[0m \u001b[0mright\u001b[0m\u001b[0;34m)\u001b[0m\u001b[0;34m\u001b[0m\u001b[0;34m\u001b[0m\u001b[0m\n\u001b[0m\u001b[1;32m    167\u001b[0m     \u001b[0;32mexcept\u001b[0m \u001b[0mTypeError\u001b[0m\u001b[0;34m:\u001b[0m\u001b[0;34m\u001b[0m\u001b[0;34m\u001b[0m\u001b[0m\n\u001b[1;32m    168\u001b[0m         \u001b[0;32mif\u001b[0m \u001b[0mis_object_dtype\u001b[0m\u001b[0;34m(\u001b[0m\u001b[0mleft\u001b[0m\u001b[0;34m)\u001b[0m \u001b[0;32mor\u001b[0m \u001b[0mis_object_dtype\u001b[0m\u001b[0;34m(\u001b[0m\u001b[0mright\u001b[0m\u001b[0;34m)\u001b[0m \u001b[0;32mand\u001b[0m \u001b[0;32mnot\u001b[0m \u001b[0mis_cmp\u001b[0m\u001b[0;34m:\u001b[0m\u001b[0;34m\u001b[0m\u001b[0;34m\u001b[0m\u001b[0m\n",
            "\u001b[0;32m/usr/local/lib/python3.7/dist-packages/pandas/core/computation/expressions.py\u001b[0m in \u001b[0;36mevaluate\u001b[0;34m(op, a, b, use_numexpr)\u001b[0m\n\u001b[1;32m    237\u001b[0m         \u001b[0;32mif\u001b[0m \u001b[0muse_numexpr\u001b[0m\u001b[0;34m:\u001b[0m\u001b[0;34m\u001b[0m\u001b[0;34m\u001b[0m\u001b[0m\n\u001b[1;32m    238\u001b[0m             \u001b[0;31m# error: \"None\" not callable\u001b[0m\u001b[0;34m\u001b[0m\u001b[0;34m\u001b[0m\u001b[0;34m\u001b[0m\u001b[0m\n\u001b[0;32m--> 239\u001b[0;31m             \u001b[0;32mreturn\u001b[0m \u001b[0m_evaluate\u001b[0m\u001b[0;34m(\u001b[0m\u001b[0mop\u001b[0m\u001b[0;34m,\u001b[0m \u001b[0mop_str\u001b[0m\u001b[0;34m,\u001b[0m \u001b[0ma\u001b[0m\u001b[0;34m,\u001b[0m \u001b[0mb\u001b[0m\u001b[0;34m)\u001b[0m  \u001b[0;31m# type: ignore[misc]\u001b[0m\u001b[0;34m\u001b[0m\u001b[0;34m\u001b[0m\u001b[0m\n\u001b[0m\u001b[1;32m    240\u001b[0m     \u001b[0;32mreturn\u001b[0m \u001b[0m_evaluate_standard\u001b[0m\u001b[0;34m(\u001b[0m\u001b[0mop\u001b[0m\u001b[0;34m,\u001b[0m \u001b[0mop_str\u001b[0m\u001b[0;34m,\u001b[0m \u001b[0ma\u001b[0m\u001b[0;34m,\u001b[0m \u001b[0mb\u001b[0m\u001b[0;34m)\u001b[0m\u001b[0;34m\u001b[0m\u001b[0;34m\u001b[0m\u001b[0m\n\u001b[1;32m    241\u001b[0m \u001b[0;34m\u001b[0m\u001b[0m\n",
            "\u001b[0;32m/usr/local/lib/python3.7/dist-packages/pandas/core/computation/expressions.py\u001b[0m in \u001b[0;36m_evaluate_numexpr\u001b[0;34m(op, op_str, a, b)\u001b[0m\n\u001b[1;32m    126\u001b[0m \u001b[0;34m\u001b[0m\u001b[0m\n\u001b[1;32m    127\u001b[0m     \u001b[0;32mif\u001b[0m \u001b[0mresult\u001b[0m \u001b[0;32mis\u001b[0m \u001b[0;32mNone\u001b[0m\u001b[0;34m:\u001b[0m\u001b[0;34m\u001b[0m\u001b[0;34m\u001b[0m\u001b[0m\n\u001b[0;32m--> 128\u001b[0;31m         \u001b[0mresult\u001b[0m \u001b[0;34m=\u001b[0m \u001b[0m_evaluate_standard\u001b[0m\u001b[0;34m(\u001b[0m\u001b[0mop\u001b[0m\u001b[0;34m,\u001b[0m \u001b[0mop_str\u001b[0m\u001b[0;34m,\u001b[0m \u001b[0ma\u001b[0m\u001b[0;34m,\u001b[0m \u001b[0mb\u001b[0m\u001b[0;34m)\u001b[0m\u001b[0;34m\u001b[0m\u001b[0;34m\u001b[0m\u001b[0m\n\u001b[0m\u001b[1;32m    129\u001b[0m \u001b[0;34m\u001b[0m\u001b[0m\n\u001b[1;32m    130\u001b[0m     \u001b[0;32mreturn\u001b[0m \u001b[0mresult\u001b[0m\u001b[0;34m\u001b[0m\u001b[0;34m\u001b[0m\u001b[0m\n",
            "\u001b[0;32m/usr/local/lib/python3.7/dist-packages/pandas/core/computation/expressions.py\u001b[0m in \u001b[0;36m_evaluate_standard\u001b[0;34m(op, op_str, a, b)\u001b[0m\n\u001b[1;32m     67\u001b[0m     \u001b[0;32mif\u001b[0m \u001b[0m_TEST_MODE\u001b[0m\u001b[0;34m:\u001b[0m\u001b[0;34m\u001b[0m\u001b[0;34m\u001b[0m\u001b[0m\n\u001b[1;32m     68\u001b[0m         \u001b[0m_store_test_result\u001b[0m\u001b[0;34m(\u001b[0m\u001b[0;32mFalse\u001b[0m\u001b[0;34m)\u001b[0m\u001b[0;34m\u001b[0m\u001b[0;34m\u001b[0m\u001b[0m\n\u001b[0;32m---> 69\u001b[0;31m     \u001b[0;32mreturn\u001b[0m \u001b[0mop\u001b[0m\u001b[0;34m(\u001b[0m\u001b[0ma\u001b[0m\u001b[0;34m,\u001b[0m \u001b[0mb\u001b[0m\u001b[0;34m)\u001b[0m\u001b[0;34m\u001b[0m\u001b[0;34m\u001b[0m\u001b[0m\n\u001b[0m\u001b[1;32m     70\u001b[0m \u001b[0;34m\u001b[0m\u001b[0m\n\u001b[1;32m     71\u001b[0m \u001b[0;34m\u001b[0m\u001b[0m\n",
            "\u001b[0;31mTypeError\u001b[0m: '>' not supported between instances of 'int' and 'datetime.datetime'"
          ]
        },
        {
          "output_type": "display_data",
          "data": {
            "text/plain": [
              "<Figure size 1080x720 with 0 Axes>"
            ]
          },
          "metadata": {}
        }
      ],
      "source": [
        "date = []\n",
        "count = []\n",
        "for index,row in ddf.iterrows():\n",
        "    date.append(index)\n",
        "    count.append(row.notna().sum())\n",
        "\n",
        "counts_df = pd.DataFrame({'date':date,'count':count})\n",
        "      \n",
        "plt.figure(figsize=(20,10))\n",
        "ax = plt.plot(counts_df['date'],counts_df['count'])\n",
        "plt.show()\n",
        "\n",
        "# findout when was the first big change\n",
        "plt.figure(figsize=(15,10))\n",
        "counts_df1 = counts_df[(counts_df['date']>pd.datetime(year=1977,month=6,day=1)) & (counts_df['date']<pd.datetime(year=1978,month=6,day=1))]\n",
        "ax2 = plt.plot(counts_df1['date'],counts_df1['count'])\n",
        "plt.show()\n",
        "\n",
        "# findout when was the second change\n",
        "plt.figure(figsize=(15,10))\n",
        "counts_df2 = counts_df[(counts_df['date']>pd.datetime(year=1997,month=6,day=1)) & (counts_df['date']<pd.datetime(year=1998,month=6,day=1))]\n",
        "ax2 = plt.plot(counts_df2['date'],counts_df2['count'])\n",
        "plt.show()"
      ]
    },
    {
      "cell_type": "markdown",
      "metadata": {
        "id": "oHxGTCk6RMAD"
      },
      "source": [
        "Conclusion: for US CPI there was a major increase in no. of items in January, 1978, and then another major increase in January, 1998."
      ]
    },
    {
      "cell_type": "markdown",
      "metadata": {
        "id": "6X6ZcT5sRMAD"
      },
      "source": [
        "## Functions to create adjacency matrices from corr matrices\n",
        "binarize = True makes adjacency matrix binary"
      ]
    },
    {
      "cell_type": "code",
      "execution_count": null,
      "metadata": {
        "id": "b4AVh2NdRMAE"
      },
      "outputs": [],
      "source": [
        "def apply_to_rolling(x,binarize = False,cutoff=None,absolute=False):\n",
        "    mean = np.mean(x)\n",
        "    std = np.std(x)\n",
        "    cols = x.columns\n",
        "    if absolute == True:\n",
        "        x = x.abs()\n",
        "    else:\n",
        "        pass\n",
        "    \n",
        "    if cutoff == None:\n",
        "        m = x.values<np.median(x.dropna())\n",
        "    elif cutoff ==  'median' : \n",
        "        m = x.values<np.median(x.dropna())\n",
        "        print(np.median(x.dropna()))\n",
        "    elif cutoff ==  '75pctile' : \n",
        "        m = x.values<np.quantile(x.dropna(),q = 0.75)\n",
        "    else : \n",
        "        m = x.values < cutoff\n",
        "    \n",
        "    if  binarize == False : \n",
        "        distance = x.values\n",
        "        distance = (distance - mean) / std\n",
        "    else : \n",
        "        distance = torch.ones(x.shape).numpy()\n",
        "    distance[m]=0\n",
        "    distance = pd.DataFrame(distance,index = cols,columns = cols)\n",
        "    \n",
        "    return  distance"
      ]
    },
    {
      "cell_type": "markdown",
      "metadata": {
        "id": "XNGf1nqDRMAE"
      },
      "source": [
        "## Produce corr-matrix and network for the full period"
      ]
    },
    {
      "cell_type": "code",
      "execution_count": null,
      "metadata": {
        "id": "7e7DYyhgRMAE"
      },
      "outputs": [],
      "source": [
        "def generate_data_full(dataframe,list_of_cutoffs = ['median'],rolling_data_apply = apply_to_rolling,\n",
        "                            from_year = 1998,to_year = 2020,from_month = 1,to_month=12,binarize_list = ['True'],absolute=False):\n",
        "    \n",
        "    price_series = dataframe\n",
        "    price_series = price_series[(price_series.index>=pd.datetime(year = from_year,month = from_month, day = 1))&((price_series.index<=pd.datetime(year = to_year,month = to_month, day = 31)))]\n",
        "    price_series = price_series[price_series.columns].astype(float)\n",
        "    # 1) find only products with complete months 2) extrapolate the missing months\n",
        "    # fillna would use next valid value to fill nan\n",
        "    inflation_series = (np.log(price_series)-np.log(price_series.shift(1))).fillna(method='bfill')\n",
        "\n",
        "    for cutoff in list_of_cutoffs:\n",
        "\n",
        "        CUTOFF = cutoff\n",
        "\n",
        "        print('CUTOFF : ',CUTOFF)\n",
        "\n",
        "        for binarize in binarize_list: # by default its unweighted graphs !! \n",
        "            error = 0\n",
        "\n",
        "            # the exponential correlation  function ! \n",
        "            corrs_overtime = inflation_series.corr()\n",
        "            try :\n",
        "                # drop items which values are all nan\n",
        "                corrs_overtime.dropna(axis=1, how='all',inplace=True)\n",
        "                corrs_overtime.dropna(axis=0, how='all',inplace=True)\n",
        "\n",
        "                corr_window = rolling_data_apply(corrs_overtime,binarize = binarize,cutoff = CUTOFF,absolute=absolute)\n",
        "                G = nx.from_pandas_adjacency(corr_window)\n",
        "                G.remove_edges_from(nx.selfloop_edges(G))\n",
        "                \n",
        "            except : \n",
        "                print('There is an error')\n",
        "                break\n",
        "\n",
        "            print(f'Done with cutoff:{cutoff}')\n",
        "    return corrs_overtime,G"
      ]
    },
    {
      "cell_type": "code",
      "execution_count": null,
      "metadata": {
        "scrolled": true,
        "id": "_7m0no8-RMAF"
      },
      "outputs": [],
      "source": [
        "corrmat,network = generate_data_full(ddf,from_year=2019,to_year=2021,rolling_data_apply = apply_to_rolling,\n",
        "                                     binarize_list=['True'],list_of_cutoffs = [0.2])"
      ]
    },
    {
      "cell_type": "code",
      "execution_count": null,
      "metadata": {
        "id": "bbw7TQT7RMAF"
      },
      "outputs": [],
      "source": [
        "corrmat.shape"
      ]
    },
    {
      "cell_type": "code",
      "execution_count": null,
      "metadata": {
        "id": "dlP8jW-HRMAF"
      },
      "outputs": [],
      "source": [
        "!pip install sklearn\n",
        "from sklearn.metrics.pairwise import cosine_similarity as cs"
      ]
    },
    {
      "cell_type": "code",
      "execution_count": null,
      "metadata": {
        "id": "oveyk4qbRMAF"
      },
      "outputs": [],
      "source": [
        "dist = cs(corrmat) / np.pi"
      ]
    },
    {
      "cell_type": "code",
      "execution_count": null,
      "metadata": {
        "id": "4ZnbPvTBRMAF"
      },
      "outputs": [],
      "source": [
        "dist.shape"
      ]
    },
    {
      "cell_type": "code",
      "execution_count": null,
      "metadata": {
        "id": "ewZrZFTrRMAF"
      },
      "outputs": [],
      "source": [
        "from sklearn.cluster import OPTICS"
      ]
    },
    {
      "cell_type": "code",
      "execution_count": null,
      "metadata": {
        "id": "FLh2qKX2RMAF"
      },
      "outputs": [],
      "source": [
        "minPts = int(len(dist) * 0.05)\n",
        "clusters = OPTICS(min_samples=minPts).fit(dist)"
      ]
    },
    {
      "cell_type": "code",
      "execution_count": null,
      "metadata": {
        "id": "leW5Unf0RMAG"
      },
      "outputs": [],
      "source": [
        "from sklearn.manifold import TSNE"
      ]
    },
    {
      "cell_type": "code",
      "execution_count": null,
      "metadata": {
        "id": "aAQS7aLJRMAG"
      },
      "outputs": [],
      "source": [
        "import matplotlib.pyplot as plt\n",
        "import seaborn as sns\n",
        "import pandas as pd"
      ]
    },
    {
      "cell_type": "code",
      "execution_count": null,
      "metadata": {
        "id": "_CDtq7ExRMAG"
      },
      "outputs": [],
      "source": [
        "embedding = TSNE(n_components=2).fit_transform(dist)"
      ]
    },
    {
      "cell_type": "code",
      "execution_count": null,
      "metadata": {
        "id": "5mqqK6zsRMAG"
      },
      "outputs": [],
      "source": [
        "embedding.shape"
      ]
    },
    {
      "cell_type": "code",
      "execution_count": null,
      "metadata": {
        "id": "nBR_IBZ1RMAG"
      },
      "outputs": [],
      "source": [
        "df = pd.DataFrame()\n",
        "df[\"x_component\"]=embedding[:,0]\n",
        "df[\"y_component\"]=embedding[:,1]\n",
        "    \n",
        "fig,ax = plt.subplots()\n",
        "sns.scatterplot(data=df, x=\"x_component\", y=\"y_component\",hue=clusters.labels_)\n",
        "plt.show()"
      ]
    },
    {
      "cell_type": "code",
      "execution_count": null,
      "metadata": {
        "id": "fee2HLSORMAG"
      },
      "outputs": [],
      "source": [
        "corrmat.columns[clusters.labels_ == 0]"
      ]
    },
    {
      "cell_type": "code",
      "execution_count": null,
      "metadata": {
        "id": "gk6NUA66RMAG"
      },
      "outputs": [],
      "source": [
        "corrmat.columns[clusters.labels_ == 1]"
      ]
    },
    {
      "cell_type": "code",
      "execution_count": null,
      "metadata": {
        "id": "wRM9-gn5RMAG"
      },
      "outputs": [],
      "source": [
        "corrmat.columns[clusters.labels_ == 2]"
      ]
    }
  ],
  "metadata": {
    "kernelspec": {
      "display_name": "Python 3 (ipykernel)",
      "language": "python",
      "name": "python3"
    },
    "language_info": {
      "codemirror_mode": {
        "name": "ipython",
        "version": 3
      },
      "file_extension": ".py",
      "mimetype": "text/x-python",
      "name": "python",
      "nbconvert_exporter": "python",
      "pygments_lexer": "ipython3",
      "version": "3.8.8"
    },
    "vscode": {
      "interpreter": {
        "hash": "8ceea2914f5a5724ed68f4dd8ffd0436fd7e35c8bfc1900b9cd13b0e46fefbff"
      }
    },
    "colab": {
      "name": "Optics_Test.ipynb",
      "provenance": [],
      "collapsed_sections": [],
      "include_colab_link": true
    }
  },
  "nbformat": 4,
  "nbformat_minor": 0
}